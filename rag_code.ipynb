{
 "cells": [
  {
   "cell_type": "code",
   "execution_count": 1,
   "id": "3e189975-d2c3-4ee9-96bd-d997d51089cd",
   "metadata": {},
   "outputs": [
    {
     "name": "stdout",
     "output_type": "stream",
     "text": [
      "Note: you may need to restart the kernel to use updated packages.\n"
     ]
    },
    {
     "name": "stderr",
     "output_type": "stream",
     "text": [
      "\n",
      "[notice] A new release of pip is available: 24.2 -> 25.2\n",
      "[notice] To update, run: python.exe -m pip install --upgrade pip\n"
     ]
    }
   ],
   "source": [
    "%pip install \"cohere<5\" --quiet"
   ]
  },
  {
   "cell_type": "code",
   "execution_count": 2,
   "id": "c5e45c13-7cf6-47f6-b500-0b950d99452d",
   "metadata": {},
   "outputs": [],
   "source": [
    "import cohere"
   ]
  },
  {
   "cell_type": "code",
   "execution_count": null,
   "id": "043c80ac-bf09-4f61-ba24-17fedf7586ed",
   "metadata": {},
   "outputs": [],
   "source": [
    "API_KEY = \"COHERE_API_KEY\""
   ]
  },
  {
   "cell_type": "code",
   "execution_count": 4,
   "id": "4a15b999-fa2b-4427-a019-08247fd28af4",
   "metadata": {},
   "outputs": [],
   "source": [
    "co = cohere.Client(API_KEY)"
   ]
  },
  {
   "cell_type": "code",
   "execution_count": 5,
   "id": "3da8cee0-5461-482a-ace3-5d57dcd5631b",
   "metadata": {},
   "outputs": [
    {
     "name": "stderr",
     "output_type": "stream",
     "text": [
      "\n",
      "[notice] A new release of pip is available: 24.2 -> 25.2\n",
      "[notice] To update, run: python.exe -m pip install --upgrade pip\n"
     ]
    }
   ],
   "source": [
    "!pip install wikipedia --quiet\n",
    "import wikipedia"
   ]
  },
  {
   "cell_type": "code",
   "execution_count": 6,
   "id": "3bb6b5c4-1ddf-4d8d-9a70-eef85b9c2c16",
   "metadata": {},
   "outputs": [
    {
     "name": "stdout",
     "output_type": "stream",
     "text": [
      "The article is titled: The Wild Robot\n",
      "The text has roughly 3065 words.\n"
     ]
    }
   ],
   "source": [
    "article = wikipedia.page('Wild Robot', auto_suggest = False)\n",
    "text = article.content\n",
    "print(f\"The article is titled: {article.title}\")\n",
    "print(f\"The text has roughly {len(text.split())} words.\")"
   ]
  },
  {
   "cell_type": "code",
   "execution_count": 7,
   "id": "d21a1338-40b6-40bb-89ab-da6ebeecc126",
   "metadata": {},
   "outputs": [
    {
     "name": "stdout",
     "output_type": "stream",
     "text": [
      "Note: you may need to restart the kernel to use updated packages.\n"
     ]
    }
   ],
   "source": [
    "%pip install -qU langchain-text-splitters --quiet\n",
    "from langchain_text_splitters import RecursiveCharacterTextSplitter"
   ]
  },
  {
   "cell_type": "code",
   "execution_count": 8,
   "id": "3c5434c8-3a4c-41c1-958a-d1ea4c0f91de",
   "metadata": {},
   "outputs": [
    {
     "name": "stdout",
     "output_type": "stream",
     "text": [
      "The text has been broken down in 63 chunks.\n"
     ]
    }
   ],
   "source": [
    "text_splitter = RecursiveCharacterTextSplitter(\n",
    "    chunk_size=512,\n",
    "    chunk_overlap=50,\n",
    "    length_function=len,\n",
    "    is_separator_regex=False,\n",
    ")\n",
    "chunks_ = text_splitter.create_documents([text])\n",
    "chunks = [c.page_content for c in chunks_]\n",
    "print(f\"The text has been broken down in {len(chunks)} chunks.\")"
   ]
  },
  {
   "cell_type": "code",
   "execution_count": 9,
   "id": "23cbdd0e-7f61-4f29-92bd-03a86243c294",
   "metadata": {},
   "outputs": [
    {
     "name": "stdout",
     "output_type": "stream",
     "text": [
      "We just computed 63 embeddings.\n"
     ]
    }
   ],
   "source": [
    "model=\"embed-english-v3.0\"\n",
    "response = co.embed(\n",
    "    texts=chunks,\n",
    "    model=model,\n",
    "    input_type=\"search_document\",\n",
    "    embedding_types=['float']\n",
    ")\n",
    "embeddings = response.embeddings.float\n",
    "print(f\"We just computed {len(embeddings)} embeddings.\")\n"
   ]
  },
  {
   "cell_type": "code",
   "execution_count": 10,
   "id": "33d70a05-0618-4646-adec-19a2beafda86",
   "metadata": {},
   "outputs": [
    {
     "name": "stdout",
     "output_type": "stream",
     "text": [
      "Collecting numpy\n",
      "  Using cached numpy-2.3.2-cp312-cp312-win_amd64.whl.metadata (60 kB)\n",
      "Using cached numpy-2.3.2-cp312-cp312-win_amd64.whl (12.8 MB)\n",
      "Installing collected packages: numpy\n",
      "Successfully installed numpy-2.3.2\n"
     ]
    },
    {
     "name": "stderr",
     "output_type": "stream",
     "text": [
      "\n",
      "[notice] A new release of pip is available: 24.2 -> 25.2\n",
      "[notice] To update, run: python.exe -m pip install --upgrade pip\n"
     ]
    }
   ],
   "source": [
    "!pip install numpy\n",
    "import numpy as np"
   ]
  },
  {
   "cell_type": "code",
   "execution_count": 11,
   "id": "4dd00f99-4577-409c-99d6-2e75d1e03506",
   "metadata": {},
   "outputs": [],
   "source": [
    "vector_database = {i: np.array(embedding) for i, embedding in enumerate(embeddings)}\n"
   ]
  },
  {
   "cell_type": "code",
   "execution_count": 12,
   "id": "4068f310-fb7f-4f6f-8923-0c4cb97a5a42",
   "metadata": {},
   "outputs": [],
   "source": [
    "query = \"Who is the director of the movie The Wild Robot? List out the names of all actors in the movie and their role in the movie?\"\n"
   ]
  },
  {
   "cell_type": "code",
   "execution_count": 13,
   "id": "0eaa85e2-4650-4173-89cb-fbb08dd5e636",
   "metadata": {},
   "outputs": [
    {
     "name": "stdout",
     "output_type": "stream",
     "text": [
      "query_embedding:  [-0.039245605, -0.0029792786, -0.057525635, 0.013801575, 0.010322571, -0.03668213, 0.03781128, 0.03201294, -0.04437256, 0.022888184, -0.0032081604, 0.02458191, -0.09240723, -0.012565613, 0.0064926147, -0.063964844, 0.0027065277, 0.09680176, 0.08782959, 0.022659302, 0.021636963, 0.038269043, -0.03338623, -0.035888672, 0.043762207, -0.010627747, -0.017608643, -0.011962891, 0.014465332, 0.018310547, 0.014968872, 0.011802673, 0.0132369995, 0.0018453598, 0.00020682812, -0.024505615, 0.0065307617, -0.011146545, 0.0009727478, -0.012565613, 0.008514404, -0.0022830963, 0.0026721954, 0.00075387955, -0.016677856, -0.012161255, 0.021606445, -0.007129669, 0.031951904, 0.016281128, -0.02067566, -0.021850586, -0.012939453, -0.02293396, -0.038146973, -0.037750244, -0.0022506714, -0.06390381, 0.015838623, 0.047821045, 0.013153076, -0.0069885254, 0.012237549, -0.02848816, 0.0030879974, -0.0011091232, 0.0158844, 0.01763916, 0.056365967, 0.0009160042, -0.031433105, 0.035491943, 0.020950317, -0.032318115, 0.037750244, 0.006072998, -0.04296875, -0.029403687, 0.026947021, 0.012573242, -0.023849487, 0.0016460419, -0.054138184, -0.06652832, 0.01600647, -0.022659302, -0.007545471, 0.0019435883, -0.0057144165, -0.037963867, 2.4139881e-05, -0.013442993, -0.031433105, 0.00793457, -0.008285522, -0.026168823, 0.032348633, 0.02507019, 0.032958984, 0.041534424, 0.024093628, -0.045898438, 0.078125, -0.043945312, -0.01826477, -0.010299683, 0.025558472, -0.017456055, 0.0044059753, 0.035308838, -0.032562256, 0.02482605, 0.014907837, 0.03543091, -0.048553467, -0.016952515, -0.022262573, -0.026504517, -0.026672363, 0.02709961, 0.015235901, -0.00283432, -0.015716553, 0.04083252, -0.017181396, -0.018035889, -0.03466797, 0.010383606, 0.04031372, -0.023483276, -0.019058228, 0.02104187, 0.0075149536, 0.018234253, 0.028427124, -0.0014562607, 0.0028095245, -0.018554688, 0.013183594, -0.022598267, -0.0027713776, -0.008934021, 0.0368042, 0.014953613, 0.02671814, -0.032806396, 0.0035991669, 0.032043457, 0.027328491, 0.04623413, -0.03677368, 0.06829834, -0.0524292, 0.029571533, 0.10723877, 0.0039978027, 0.0597229, -0.02519226, 0.048828125, 0.00970459, 0.004837036, 0.050628662, 0.08294678, 0.047729492, 0.042663574, -0.058563232, -0.049957275, 0.0018157959, 0.0093307495, -0.030807495, -0.007881165, 0.054138184, -0.006259918, 0.0069732666, 0.018707275, 0.008552551, -0.03253174, -0.008262634, -0.010276794, 0.03338623, -0.017059326, -0.05432129, -0.023468018, 0.020584106, -0.0070991516, -0.057525635, 0.039764404, 0.005996704, 0.02319336, 0.03753662, 0.012390137, -0.021209717, 0.05795288, -0.010658264, -0.0062942505, -0.031234741, -0.017333984, 0.01878357, -0.043640137, 0.0026893616, -0.033447266, 0.000113487244, 0.011390686, -0.008354187, -0.078308105, 0.008621216, -0.027526855, 0.035247803, -0.05456543, -0.021148682, 0.015731812, -0.05532837, -0.010246277, 0.05038452, 0.013877869, 0.017410278, -0.030166626, 0.03793335, 0.008995056, 0.010124207, 0.024047852, -0.010948181, 0.02482605, -0.009025574, 0.041015625, 0.0011034012, -0.003036499, -0.0005683899, 0.055908203, 0.008483887, -0.00843811, 0.00088119507, -0.041503906, -0.011398315, -0.059020996, -0.010482788, -0.029037476, 0.034729004, 0.021057129, 0.01448822, 0.031921387, 0.06585693, -0.04257202, -0.027618408, 0.09710693, -0.044189453, -0.0026798248, -0.014183044, -0.032714844, -0.03353882, 0.028366089, -0.010047913, 0.014450073, -0.03250122, -0.0039405823, -0.008026123, -0.048797607, 0.0077056885, 0.014175415, -0.022766113, -0.008087158, -0.050811768, -0.0027675629, -0.0519104, -0.05218506, -0.018127441, -0.028930664, 0.011489868, 0.024597168, -0.049316406, 0.023986816, 0.029067993, 0.0056877136, -0.0038490295, 0.026153564, -0.048187256, 0.0019779205, -0.002450943, 0.011444092, -0.017578125, -0.00969696, 0.010902405, 0.040893555, -0.019805908, 0.016464233, 0.022476196, 0.009521484, -0.024047852, 0.01259613, -0.0046043396, 0.026885986, 0.020843506, 0.031982422, -0.021972656, 0.0030784607, -0.012413025, 0.006549835, 0.026367188, 0.0038433075, -0.014198303, -0.033233643, 0.01675415, -0.030395508, 0.008613586, -0.004951477, -0.026306152, -0.007858276, -0.016723633, -0.023651123, -0.006755829, -0.059661865, -0.0025730133, 0.049865723, 0.07873535, 0.01878357, -0.008758545, -0.030685425, 0.07879639, 0.0056381226, -0.013320923, 0.19970703, -0.012084961, 0.012130737, -0.043060303, -0.029556274, -0.08618164, 0.033111572, -0.029907227, -0.012313843, -0.01739502, 0.027954102, -0.008544922, 0.019805908, 0.015060425, -0.0014839172, -0.020996094, 0.00680542, 0.023422241, 0.00592041, -0.033325195, 0.015029907, 0.07904053, 0.022857666, 0.009506226, -0.008605957, -0.007472992, 0.01864624, -0.013679504, -0.068481445, 0.05545044, -0.018539429, 0.009628296, 0.0002374649, -0.020767212, -0.0016326904, 0.0054779053, -0.021911621, -0.029785156, 0.009689331, -0.05709839, 0.054840088, -0.011909485, 0.016967773, 0.028366089, -0.028533936, -0.030471802, 0.005542755, 0.024917603, 0.0440979, 0.039245605, -0.026565552, 0.0209198, -0.023513794, 0.009208679, 0.054504395, 0.000995636, 0.04458618, 0.008262634, 0.013023376, 0.034210205, 0.018356323, 0.014335632, 0.0041618347, -0.010765076, 0.052368164, -0.013870239, -0.05001831, -0.013977051, 0.029876709, 0.03466797, -0.011001587, -0.060302734, 0.036315918, -0.012908936, 0.017333984, 0.00088214874, -0.03878784, 0.010658264, -0.046661377, 0.012840271, 0.0068855286, 0.00390625, -0.03451538, 0.018981934, -0.038085938, 0.0032634735, 0.03338623, -0.029052734, 0.02659607, 0.032409668, 0.013160706, -0.02722168, 0.033569336, -0.06542969, 0.010040283, -0.007865906, -0.01889038, -0.0023269653, -0.0014877319, -0.035583496, -0.023468018, 0.04925537, 0.0005259514, 4.6610832e-05, -0.011238098, -0.023376465, 0.004711151, -0.023742676, 0.0066337585, 0.032348633, 0.0060272217, -0.0016145706, -0.011642456, -0.004135132, -0.04168701, 0.008430481, -0.0064353943, 0.018081665, 0.016326904, -0.033996582, -0.02609253, -0.013183594, 0.023025513, 0.031341553, 0.007621765, 0.0075912476, -0.018081665, -0.040130615, 0.007873535, -0.016098022, -0.0074806213, -4.184246e-05, 0.041778564, 0.035247803, 0.005092621, 0.012878418, -0.012748718, 0.02720642, 0.03137207, -0.009796143, 0.033477783, -0.0017700195, -0.05041504, 0.005630493, 0.015426636, -0.0064201355, 0.0046081543, 0.007881165, -0.03616333, 0.0368042, 0.03543091, -0.05255127, 0.011695862, -0.023956299, 0.034301758, 0.00083351135, 0.013442993, -0.027938843, 0.012672424, -0.0124053955, 0.0016527176, 0.0033245087, -0.09289551, 0.009101868, 0.028503418, -0.039001465, -0.010253906, 0.012527466, -0.025482178, 0.0004878044, -0.015525818, 0.019134521, 0.007701874, -0.03591919, -0.016799927, -0.012825012, -0.010185242, -0.055541992, 0.0107040405, -0.016525269, 0.020599365, -0.0014104843, 0.04147339, -0.0014476776, 0.014297485, 0.023971558, 0.01461792, 0.005264282, 0.01436615, 0.014129639, 0.034332275, -0.0053215027, 0.013046265, 0.012260437, -0.038330078, 0.0018453598, -0.012168884, 0.020233154, -0.016967773, -0.011360168, 0.00856781, 0.007030487, 0.007369995, 0.01448822, 0.026290894, -0.004749298, 0.025802612, 0.025741577, -0.040985107, 0.031707764, 0.05029297, 0.023361206, 0.04562378, -0.015914917, -0.024673462, -0.012702942, -0.009010315, 0.0040626526, 0.000682354, 0.0073242188, -0.025039673, -0.017913818, 0.018508911, 0.021011353, 0.0016727448, -0.016296387, -0.0099105835, 0.0056495667, 0.026229858, -0.038970947, 0.007003784, 0.001917839, -0.0047569275, -0.04067993, -0.043518066, 0.031982422, -0.0129470825, 0.007545471, 0.013626099, -0.015167236, 0.005958557, -0.0062294006, -0.024398804, 0.027313232, 0.049224854, 0.015960693, -0.02961731, -0.048309326, 0.024887085, -0.010566711, -0.0075798035, -0.022232056, 0.051971436, -0.0060577393, 0.0019664764, -0.0231781, -0.046447754, 0.0012779236, 0.034057617, 0.12225342, 0.04309082, 0.030227661, -0.072021484, 0.019500732, -0.048217773, 0.039642334, 0.042663574, 0.00049972534, -0.020019531, -0.0041122437, -0.000477314, 0.007904053, -0.011100769, -0.022903442, 0.00491333, 0.022384644, -0.02720642, -0.04055786, 0.010345459, -0.013053894, 0.04385376, 0.010749817, 0.02810669, 0.009552002, -0.076293945, 0.004016876, 0.015670776, 0.020248413, -0.026123047, -0.023162842, 0.03012085, -0.03479004, -0.016052246, 0.055999756, -0.030395508, -0.00415802, -0.03765869, 0.04534912, 0.00995636, -0.0069007874, 0.02355957, -0.021347046, 0.01033783, -0.0049552917, -0.013473511, -0.06536865, -0.017349243, -0.020690918, 0.0012340546, 0.011459351, 0.00046277046, 0.010795593, -0.03967285, -0.10784912, -0.0065612793, 0.119140625, -0.019683838, -0.0010271072, -0.004760742, 0.054718018, 0.0006766319, 0.04006958, -0.021194458, 0.011772156, 0.024276733, -0.006580353, 0.005428314, -0.03744507, -0.026641846, 0.014907837, -0.078430176, -0.0050582886, 0.0012550354, -0.011627197, 0.013389587, 0.029220581, -0.017303467, 0.06768799, -0.06976318, 0.026550293, 0.0018510818, 0.0061912537, -0.025497437, -0.006008148, 0.040283203, 0.03729248, 0.018798828, 0.036102295, -0.00026774406, -0.01537323, -0.02355957, 0.019180298, 0.05407715, -0.018875122, 0.0001180768, 0.044525146, 0.036224365, 0.009819031, 0.048950195, -0.041778564, -0.01158905, -0.038208008, -0.009780884, -0.030334473, 0.0079956055, -0.0012216568, 0.013046265, 0.014762878, -0.0040512085, 0.02583313, -0.055236816, -0.047943115, -0.020935059, -0.07928467, -0.029220581, -0.029937744, 0.018829346, -0.068725586, -0.10662842, -0.030181885, 0.035095215, -0.02255249, 0.040771484, -0.034210205, 0.028518677, 0.004901886, -0.030944824, -0.001250267, 0.029922485, 0.010520935, 0.025863647, 0.009605408, -0.004421234, -0.012832642, 0.016433716, 0.015670776, 0.017181396, -0.03933716, -0.041168213, 0.031555176, -0.023742676, 0.030395508, -0.034729004, -0.05947876, -0.0009880066, -0.02609253, -0.026824951, 0.014251709, 0.008911133, 0.014694214, 0.00048708916, 0.009414673, 0.02861023, -0.017456055, -0.01007843, -0.015838623, -0.012870789, 0.01524353, -0.008094788, -0.034820557, -0.0050964355, -0.011505127, 0.027801514, 0.0024909973, -0.00029468536, 0.054473877, -0.003282547, -0.015731812, 0.025299072, 0.011558533, -0.011604309, 0.02331543, 0.015472412, 0.015205383, 0.020599365, -0.00472641, 0.021011353, -0.011978149, 0.024337769, -0.026794434, -0.054504395, 0.015716553, 0.026687622, 0.044769287, 0.03363037, 0.03475952, 0.018478394, 0.025222778, -0.0053253174, -0.020736694, 0.0054397583, -0.017227173, 0.004989624, 0.0042419434, 0.026947021, -0.0016832352, 0.011024475, -0.01309967, 0.011230469, 0.043914795, -0.0020179749, 0.0602417, -0.037261963, -0.024353027, 0.033111572, 0.03439331, 0.012489319, -0.030410767, 0.009468079, -0.029312134, -0.043640137, 0.012771606, -0.010627747, 0.00806427, 0.01626587, 0.032928467, 0.010971069, -0.0046806335, 0.034973145, -0.0064201355, 0.005050659, 0.011993408, -0.08618164, -0.050811768, -0.03466797, -0.004180908, 0.031051636, -0.049987793, -0.05581665, 0.026824951, -0.027175903, -0.028335571, 0.02494812, -0.046875, 0.06439209, -0.046722412, 0.033935547, 0.035369873, -0.0440979, -0.0072250366, -0.011619568, 0.00083208084, -0.017532349, 0.06304932, -0.015945435, -0.023727417, -0.011940002, 0.052947998, -0.014671326, 0.024978638, 0.01828003, -0.03488159, 0.028701782, 0.032287598, 0.029571533, 0.017227173, 0.0050201416, -0.0018072128, -0.006362915, 0.023651123, -0.0340271, 0.0030899048, 0.0028820038, -0.045013428, 0.049987793, 0.01802063, -0.014015198, -0.018005371, -0.05496216, 0.07507324, -0.016220093, 0.06323242, 0.048950195, -0.050842285, 0.0102005005, 0.030578613, 0.064697266, -0.02305603, 0.00894165, -0.0013437271, -0.028579712, 0.02458191, -0.016220093, 0.009605408, -0.050231934, -0.044281006, 0.0060691833, -0.021865845, 0.07519531, -0.068237305, -0.00021886826, -0.06781006, 0.040222168, 0.007293701, -0.004207611, 0.053894043, 0.032165527, -0.045837402, 0.033691406, -0.0041389465, -0.050964355, -0.0027122498, 0.031951904, 0.012237549, 0.009597778, -0.030380249, -0.024307251, -0.020843506, 0.024612427, -0.023406982, -0.030181885, 0.021026611, 0.004714966, 0.01234436, -0.007972717, -0.02935791, 0.010818481, 0.0030879974, -0.0284729, 0.0072021484, -0.013259888, -0.032836914, 0.020843506, -0.016082764, 0.001748085, 0.021148682, 0.059661865, -0.016738892, -0.021972656, -0.023025513, -0.0042877197, -0.012527466, -0.03579712, -0.004547119, 0.017471313, 0.0045814514, -0.068115234, -0.026275635, -0.010284424, -0.0047073364, -0.013572693, 0.0022125244, 0.043182373, -0.018310547, -0.03137207, 0.008224487, 0.058532715, -0.015014648, -0.059387207, 0.031402588, 0.0029144287, 0.009468079, 0.09838867, -0.018966675, 0.035858154, 0.026351929, 0.008087158, 0.00022637844, -0.034423828, 0.008361816, 0.0021629333, 0.010543823, 0.023773193, 0.026535034, -0.025985718, 0.033477783, 0.017868042, -0.074401855, -0.0013847351, -0.043670654, 0.00554657, -0.004486084, 0.026748657, -0.040618896, 0.05670166, 0.033996582, -0.057525635, -0.016525269, 0.005382538, 0.026870728, -0.013641357, 0.045288086, 0.0012464523, 0.054901123, 0.010498047, 0.076049805, -0.004852295, -0.07299805, -0.045928955, -0.022872925, 0.0068359375, 0.008644104, -0.0025634766, -0.020812988, 0.038909912, -0.0037937164, -0.004573822, -0.031311035, -0.0146484375, -0.03375244, -0.014770508, -0.005317688, 0.007282257, 0.002319336, 0.0015287399, 0.04260254, -0.012138367, 0.020706177, 0.02520752, -0.017150879, 0.04019165, 0.037475586, -0.05227661, -0.018341064, 0.00012338161, 0.02519226, -0.020202637, 0.0335083, -0.022613525, 0.014266968, -0.02053833, 0.016143799, 0.014701843, -0.006965637, -0.04525757, -0.02015686, -0.0003039837, 0.034118652, -0.006259918, -0.05557251, -0.013015747, -0.005622864, -0.029342651, -0.0068969727, -0.0048332214, 0.0019950867, 0.015060425, -0.017028809, 0.015602112, -0.012619019, 0.006641388, -0.049987793, 0.0034809113, 0.019012451]\n"
     ]
    }
   ],
   "source": [
    "response = co.embed(\n",
    "    texts=[query],\n",
    "    model=model,\n",
    "    input_type=\"search_query\",\n",
    "    embedding_types=['float']\n",
    ")\n",
    "query_embedding = response.embeddings.float[0]\n",
    "print(\"query_embedding: \", query_embedding)\n"
   ]
  },
  {
   "cell_type": "code",
   "execution_count": 14,
   "id": "11c2965b-4c71-4e93-b0d8-5af4e38492dd",
   "metadata": {},
   "outputs": [
    {
     "name": "stdout",
     "output_type": "stream",
     "text": [
      "similarity scores:  [np.float64(0.7816325949972139), np.float64(0.15574661290089367), np.float64(0.3327048454848402), np.float64(0.6050063766120897), np.float64(0.18578365447234477), np.float64(0.2800438304298471), np.float64(0.29853918913290883), np.float64(0.17814177627071265), np.float64(0.18311135456179842), np.float64(0.06064340689027584), np.float64(0.2050079764886597), np.float64(0.10976479378468372), np.float64(0.27122340937427425), np.float64(0.3402325874140159), np.float64(0.16118026869699917), np.float64(0.17712139135269347), np.float64(0.30036985663166815), np.float64(0.32481583620825183), np.float64(0.2919675757621855), np.float64(0.41239239261819843), np.float64(0.37172499253381985), np.float64(0.19626280948495775), np.float64(0.6364201488870006), np.float64(0.320562737748284), np.float64(0.2187956657190147), np.float64(0.2531005925704008), np.float64(0.2468638244984641), np.float64(0.33007202740478314), np.float64(0.29196991710997444), np.float64(0.5095763215462779), np.float64(0.535595324954994), np.float64(0.3221789616485539), np.float64(0.24891378894936936), np.float64(0.31401968144078557), np.float64(0.36411042718846), np.float64(0.22587653019331297), np.float64(0.17453324566860592), np.float64(0.2614365291132917), np.float64(0.11440513605055655), np.float64(0.5789525004268072), np.float64(0.1358499327373983), np.float64(0.37179736858013185), np.float64(0.2602063824484718), np.float64(0.5183626061305854), np.float64(0.18312694586912542), np.float64(0.14855227612771446), np.float64(0.5836617679355831), np.float64(0.5495862620059639), np.float64(0.45261964935848636), np.float64(0.47876444470176316), np.float64(0.24348324550028722), np.float64(0.6074637271131382), np.float64(0.22290642361697616), np.float64(0.5795350267613724), np.float64(0.5818747998247046), np.float64(0.285141391218724), np.float64(0.3174462082714888), np.float64(0.20831651467713627), np.float64(0.15907671884404231), np.float64(0.6116156443840604), np.float64(0.23228307633070108), np.float64(0.30638124650901927), np.float64(0.47421642057238167)]\n",
      "Here are the indices of the top 10 chunks after retrieval:  [ 0 22 59 51  3 46 54 53 39 47]\n",
      "Here are the top 10 chunks after retrieval: \n",
      "== The Wild Robot is a 2024 American animated science fiction film produced by DreamWorks Animation. Based on the 2016 novel of the same name, it was written and directed by Chris Sanders and features the voices of Lupita Nyong'o, Pedro Pascal, Kit Connor, Bill Nighy, Stephanie Hsu, Matt Berry, Ving Rhames, Mark Hamill, and Catherine O'Hara. The film follows a service robot shipwrecked on an uninhabited island who must adapt to her surroundings, build relationships with the local wildlife, and become the\n",
      "== Before the release of The Wild Robot—a novel created by Peter Brown—in 2016, DreamWorks Animation bought the screenplay, setting the budget at $78 million. Chris Sanders first encountered Brown's book through his daughter, though he never read it himself. Years later, while looking for his next project at DreamWorks, Sanders was offered an opportunity to write and direct an adaptation of the book for the studio. Upon reading it, Sanders immediately fell in love with the story and felt he was the right\n",
      "== The Wild Robot incorporates environmental themes throughout its narrative, including a reference to climate change in a sequence depicting a futuristic San Francisco with a partially submerged Golden Gate Bridge. DreamWorks Animation developed the film in collaboration with both Universal's GreenerLight Program and the Natural Resources Defense Council's Rewrite the Future initiative, with environmental experts consulting on the ecological elements and a sustainability-focused PSA featuring Lupita Nyong'o.\n",
      "== The Wild Robot received critical acclaim. On the review aggregator website Rotten Tomatoes, 96% of 254 critics' reviews are positive, with an average rating of 8.4/10. The website's consensus reads: \"A simple tale told with great sophistication, The Wild Robot is wondrous entertainment that dazzles the eye while filling your heart to the brim.\" It is DreamWorks Animation's third highest-rated film on the site, behind Chicken Run (2000) and Sanders' How to Train Your Dragon (2010). Metacritic, which uses a\n",
      "== The Wild Robot premiered at the 49th Toronto International Film Festival on September 8, 2024, and was released in the United States on September 27 by distributor Universal Pictures. The film was praised for its story, themes, animation, score, emotional depth, and voice acting. It was also a commercial success, grossing $334.5 million worldwide. Among its accolades, the film received nine Annie Awards (including Best Animated Feature), won Best Animated Feature at the Critics' Choice Awards and Producers\n",
      "== === Box office ===\n",
      "The Wild Robot has grossed $143.9 million in the United States and Canada, and $189.9 million in other territories for a worldwide total of $334.1 million.\n",
      "== for The Guardian said: \"Clever, heartfelt and frequently stunning, The Wild Robot offers the type of all-ages-welcome animated entertainment that will delight kids and leave a lump in one's throat.\" Robbie Collin of The Daily Telegraph gave the film a five out of five scoring, saying, \"DreamWorks was founded 30 years ago this month, and this well-timed anniversary release is their richest, most moving film since 1998's reputation-making The Prince of Egypt.\" In his review for Vulture, Bilge Ebiri praised\n",
      "== Natalia Winkelman of The New York Times called the film \"a dazzling triumph of animation\" and wrote \"this is a work that cares most about two things: big feelings and great beauty\". Pete Hammond of Deadline Hollywood said, \"If Spielberg's E.T. had been an animated film instead, it might resemble what writer-director Chris Sanders has created here. However, Wild Robot weaves its own magic and for that we can all cry tears of joy.\" Adrian Horton, writing for The Guardian said: \"Clever, heartfelt and\n",
      "== == Release ==\n",
      "The Wild Robot had its world premiere as the opening front runner of the Toronto International Film Festival Grand Opening celebration on September 8, 2024. It was initially scheduled for release on September 20, but was postponed to September 27. This shift was reportedly made to avoid competition with Transformers One.\n",
      "On December 29, 2024, it was announced that The Wild Robot would be re-released in theaters in the US on January 17, 2025.\n",
      "== In the United States and Canada, The Wild Robot was released alongside Megalopolis, and was projected to gross $24–30 million from 3,962 theaters in its opening weekend. The film made $11.2 million on its first day, including an estimated $1.9 million from Thursday previews. The film went on to debut to $35.8 million, slightly above predictions and topping the box office. In its second weekend, the film made $18.9 million (a drop of 47% from its first weekend), finishing in second behind newcomer Joker:\n"
     ]
    }
   ],
   "source": [
    "def cosine_similarity(a, b):\n",
    "    return np.dot(a, b) / (np.linalg.norm(a) * np.linalg.norm(b))\n",
    "\n",
    "similarities = [cosine_similarity(query_embedding, chunk) for chunk in embeddings]\n",
    "print(\"similarity scores: \", similarities)\n",
    "\n",
    "sorted_indices = np.argsort(similarities)[::-1]\n",
    "top_indices = sorted_indices[:10]\n",
    "print(\"Here are the indices of the top 10 chunks after retrieval: \", top_indices)\n",
    "\n",
    "top_chunks_after_retrieval = [chunks[i] for i in top_indices]\n",
    "print(\"Here are the top 10 chunks after retrieval: \")\n",
    "for t in top_chunks_after_retrieval:\n",
    "    print(\"== \" + t)\n",
    "\n"
   ]
  },
  {
   "cell_type": "code",
   "execution_count": 15,
   "id": "6b08dc24-f26b-4f45-bc8a-7aa1750975e2",
   "metadata": {},
   "outputs": [
    {
     "name": "stdout",
     "output_type": "stream",
     "text": [
      "Final answer:\n",
      "The Wild Robot is an American animated science fiction movie directed by Chris Sanders. Since it is an animated film, it features the voices of actors rather than live-action performances. The list of voice actors and their respective roles are as follows:\n",
      "- Lupita Nyong'o\n",
      "- Role: Robot\n",
      "- Pedro Pascal\n",
      "- Kit Connor\n",
      "- Bill Nighy\n",
      "- Stephanie Hsu\n",
      "- Matt Berry\n",
      "- Ving Rhames\n",
      "- Mark Hamill\n",
      "- Catherine O'Hara\n",
      "\n",
      "The movie is an adaptation of a novel of the same name, written by Peter Brown. Dreamworks Animation produced the film on a budget of $78 million and collaborated with Universal's GreenerLight Program and the Natural Resources Defense Council's Rewrite the Future initiative for the environmental themes depicted in the movie.\n"
     ]
    }
   ],
   "source": [
    "preamble = \"\"\"\n",
    "## Task & Context\n",
    "You help people answer their questions and other requests interactively...\n",
    "\"\"\"\n",
    "\n",
    "documents = [\n",
    "    {\"title\": \"chunk 0\", \"snippet\": top_chunks_after_retrieval[0]},\n",
    "    {\"title\": \"chunk 1\", \"snippet\": top_chunks_after_retrieval[1]},\n",
    "    {\"title\": \"chunk 2\", \"snippet\": top_chunks_after_retrieval[2]},\n",
    "]\n",
    "\n",
    "response = co.chat(\n",
    "  message=query,\n",
    "  documents=documents,\n",
    "  preamble=preamble,\n",
    "  model=\"command-r\",\n",
    "  temperature=0.3\n",
    ")\n",
    "\n",
    "print(\"Final answer:\")\n",
    "print(response.text)\n",
    "\n"
   ]
  },
  {
   "cell_type": "code",
   "execution_count": null,
   "id": "c2620bb4-bae1-4176-80a4-3add078a15b5",
   "metadata": {},
   "outputs": [],
   "source": []
  }
 ],
 "metadata": {
  "kernelspec": {
   "display_name": "Python 3 (ipykernel)",
   "language": "python",
   "name": "python3"
  },
  "language_info": {
   "codemirror_mode": {
    "name": "ipython",
    "version": 3
   },
   "file_extension": ".py",
   "mimetype": "text/x-python",
   "name": "python",
   "nbconvert_exporter": "python",
   "pygments_lexer": "ipython3",
   "version": "3.12.6"
  }
 },
 "nbformat": 4,
 "nbformat_minor": 5
}
